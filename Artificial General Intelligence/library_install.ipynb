{
 "cells": [
  {
   "cell_type": "markdown",
   "id": "16e7c244",
   "metadata": {},
   "source": [
    "### Library"
   ]
  },
  {
   "cell_type": "markdown",
   "id": "d9c38331",
   "metadata": {},
   "source": [
    "#### Pygame"
   ]
  },
  {
   "cell_type": "markdown",
   "id": "5167c244",
   "metadata": {},
   "source": [
    "- Pygame으로 게임 environment를 만들었다."
   ]
  },
  {
   "cell_type": "code",
   "execution_count": 1,
   "id": "872f52f7",
   "metadata": {
    "ExecuteTime": {
     "end_time": "2022-05-08T17:01:27.684437Z",
     "start_time": "2022-05-08T17:01:26.686324Z"
    }
   },
   "outputs": [
    {
     "name": "stdout",
     "output_type": "stream",
     "text": [
      "Requirement already satisfied: pygame in /home/lim/anaconda3/lib/python3.9/site-packages (2.1.2)\r\n"
     ]
    }
   ],
   "source": [
    "!pip install pygame"
   ]
  },
  {
   "cell_type": "markdown",
   "id": "e0819474",
   "metadata": {},
   "source": [
    "#### gym"
   ]
  },
  {
   "cell_type": "markdown",
   "id": "3f10a012",
   "metadata": {},
   "source": [
    "- pygame으로 게임 environment를 만들고, 이를 강화학습으로 학습시키기 위해 gym환경을 이용한다."
   ]
  },
  {
   "cell_type": "code",
   "execution_count": 2,
   "id": "026e6381",
   "metadata": {
    "ExecuteTime": {
     "end_time": "2022-05-08T17:01:28.671276Z",
     "start_time": "2022-05-08T17:01:27.685542Z"
    }
   },
   "outputs": [
    {
     "name": "stdout",
     "output_type": "stream",
     "text": [
      "Requirement already satisfied: gym in /home/lim/anaconda3/lib/python3.9/site-packages (0.23.1)\n",
      "Requirement already satisfied: cloudpickle>=1.2.0 in /home/lim/anaconda3/lib/python3.9/site-packages (from gym) (2.0.0)\n",
      "Requirement already satisfied: numpy>=1.18.0 in /home/lim/anaconda3/lib/python3.9/site-packages (from gym) (1.20.3)\n",
      "Requirement already satisfied: gym-notices>=0.0.4 in /home/lim/anaconda3/lib/python3.9/site-packages (from gym) (0.0.6)\n",
      "Requirement already satisfied: importlib-metadata>=4.10.0 in /home/lim/anaconda3/lib/python3.9/site-packages (from gym) (4.11.3)\n",
      "Requirement already satisfied: zipp>=0.5 in /home/lim/anaconda3/lib/python3.9/site-packages (from importlib-metadata>=4.10.0->gym) (3.6.0)\n"
     ]
    }
   ],
   "source": [
    "!pip install gym"
   ]
  },
  {
   "cell_type": "markdown",
   "id": "fce05a03",
   "metadata": {},
   "source": [
    "#### cv2"
   ]
  },
  {
   "cell_type": "code",
   "execution_count": 3,
   "id": "543b2f14",
   "metadata": {
    "ExecuteTime": {
     "end_time": "2022-05-08T17:01:29.639176Z",
     "start_time": "2022-05-08T17:01:28.672708Z"
    }
   },
   "outputs": [
    {
     "name": "stdout",
     "output_type": "stream",
     "text": [
      "Requirement already satisfied: opencv-python in /home/lim/anaconda3/lib/python3.9/site-packages (4.5.5.64)\r\n",
      "Requirement already satisfied: numpy>=1.19.3 in /home/lim/anaconda3/lib/python3.9/site-packages (from opencv-python) (1.20.3)\r\n"
     ]
    }
   ],
   "source": [
    "!pip install opencv-python"
   ]
  },
  {
   "cell_type": "code",
   "execution_count": 4,
   "id": "7f342244",
   "metadata": {
    "ExecuteTime": {
     "end_time": "2022-05-08T17:01:29.851324Z",
     "start_time": "2022-05-08T17:01:29.640680Z"
    }
   },
   "outputs": [
    {
     "name": "stdout",
     "output_type": "stream",
     "text": [
      "pygame 2.1.2 (SDL 2.0.16, Python 3.9.7)\n",
      "Hello from the pygame community. https://www.pygame.org/contribute.html\n"
     ]
    }
   ],
   "source": [
    "from visualization import Path_visualization, Cursor_visualization"
   ]
  },
  {
   "cell_type": "code",
   "execution_count": 5,
   "id": "e0c7f261",
   "metadata": {
    "ExecuteTime": {
     "end_time": "2022-05-08T17:01:30.277686Z",
     "start_time": "2022-05-08T17:01:29.851970Z"
    }
   },
   "outputs": [
    {
     "name": "stdout",
     "output_type": "stream",
     "text": [
      "==================================================\n",
      "Name : total_path.npy\n",
      "==================================================\n",
      "Shape : (30000, 2)\n"
     ]
    }
   ],
   "source": [
    "_path = Path_visualization('/home/lim/Artificial General Intelligence/Data/', 'total_path.npy')"
   ]
  },
  {
   "cell_type": "code",
   "execution_count": 6,
   "id": "4e564b89",
   "metadata": {
    "ExecuteTime": {
     "end_time": "2022-05-08T17:01:30.296689Z",
     "start_time": "2022-05-08T17:01:30.278634Z"
    }
   },
   "outputs": [
    {
     "name": "stdout",
     "output_type": "stream",
     "text": [
      "==================================================\n",
      "Path direction image has been saved...\n",
      "==================================================\n"
     ]
    }
   ],
   "source": [
    "_path.direction('/home/lim/Artificial General Intelligence/Data/Path', 'direction.JPEG')"
   ]
  },
  {
   "cell_type": "code",
   "execution_count": 7,
   "id": "719e807c",
   "metadata": {
    "ExecuteTime": {
     "end_time": "2022-05-08T17:01:30.351876Z",
     "start_time": "2022-05-08T17:01:30.297488Z"
    }
   },
   "outputs": [
    {
     "name": "stdout",
     "output_type": "stream",
     "text": [
      "==================================================\n",
      "Path trajectory image has been saved...\n",
      "==================================================\n"
     ]
    }
   ],
   "source": [
    "_path.trajectory('/home/lim/Artificial General Intelligence/Data/Path', 'trajectory.JPEG')"
   ]
  },
  {
   "cell_type": "code",
   "execution_count": 8,
   "id": "e1be9443",
   "metadata": {
    "ExecuteTime": {
     "end_time": "2022-05-08T17:01:30.558104Z",
     "start_time": "2022-05-08T17:01:30.352704Z"
    }
   },
   "outputs": [
    {
     "name": "stdout",
     "output_type": "stream",
     "text": [
      "==================================================\n",
      "Path distribution image has been saved...\n",
      "==================================================\n"
     ]
    }
   ],
   "source": [
    "_path.distribution('/home/lim/Artificial General Intelligence/Data/Path', 'distribution.JPEG')"
   ]
  },
  {
   "cell_type": "code",
   "execution_count": 9,
   "id": "759eed27",
   "metadata": {
    "ExecuteTime": {
     "end_time": "2022-05-08T17:01:30.569502Z",
     "start_time": "2022-05-08T17:01:30.558862Z"
    }
   },
   "outputs": [],
   "source": [
    "_cursor = Cursor_visualization('/home/lim/Artificial General Intelligence/Data', '/home/lim/Artificial General Intelligence/Data/exp_result', 'AG02')"
   ]
  },
  {
   "cell_type": "code",
   "execution_count": 10,
   "id": "8a1e0d86",
   "metadata": {
    "ExecuteTime": {
     "end_time": "2022-05-08T17:17:17.654802Z",
     "start_time": "2022-05-08T17:01:30.570780Z"
    },
    "scrolled": true
   },
   "outputs": [
    {
     "data": {
      "image/png": "[encoded data removed]",
      "text/plain": [
       "<Figure size 432x288 with 1 Axes>"
      ]
     },
     "metadata": {
      "needs_background": "light"
     },
     "output_type": "display_data"
    }
   ],
   "source": [
    "_cursor.trajectory('/home/lim/Artificial General Intelligence/Data/exp_result/AG02')"
   ]
  },
  {
   "cell_type": "code",
   "execution_count": null,
   "id": "495c01e5",
   "metadata": {},
   "outputs": [],
   "source": []
  }
 ],
 "metadata": {
  "kernelspec": {
   "display_name": "Python 3 (ipykernel)",
   "language": "python",
   "name": "python3"
  },
  "language_info": {
   "codemirror_mode": {
    "name": "ipython",
    "version": 3
   },
   "file_extension": ".py",
   "mimetype": "text/x-python",
   "name": "python",
   "nbconvert_exporter": "python",
   "pygments_lexer": "ipython3",
   "version": "3.9.7"
  },
  "toc": {
   "base_numbering": 1,
   "nav_menu": {},
   "number_sections": true,
   "sideBar": true,
   "skip_h1_title": false,
   "title_cell": "Table of Contents",
   "title_sidebar": "Contents",
   "toc_cell": false,
   "toc_position": {
    "height": "calc(100% - 180px)",
    "left": "10px",
    "top": "150px",
    "width": "376.6px"
   },
   "toc_section_display": true,
   "toc_window_display": true
  },
  "varInspector": {
   "cols": {
    "lenName": 16,
    "lenType": 16,
    "lenVar": 40
   },
   "kernels_config": {
    "python": {
     "delete_cmd_postfix": "",
     "delete_cmd_prefix": "del ",
     "library": "var_list.py",
     "varRefreshCmd": "print(var_dic_list())"
    },
    "r": {
     "delete_cmd_postfix": ") ",
     "delete_cmd_prefix": "rm(",
     "library": "var_list.r",
     "varRefreshCmd": "cat(var_dic_list()) "
    }
   },
   "types_to_exclude": [
    "module",
    "function",
    "builtin_function_or_method",
    "instance",
    "_Feature"
   ],
   "window_display": false
  }
 },
 "nbformat": 4,
 "nbformat_minor": 5
}
