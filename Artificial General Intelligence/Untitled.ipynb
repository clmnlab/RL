{
 "cells": [
  {
   "cell_type": "code",
   "execution_count": 1,
   "id": "a17fc905",
   "metadata": {
    "ExecuteTime": {
     "end_time": "2022-05-09T09:31:36.058652Z",
     "start_time": "2022-05-09T09:31:36.054649Z"
    }
   },
   "outputs": [],
   "source": [
    "import os, sys"
   ]
  },
  {
   "cell_type": "code",
   "execution_count": 2,
   "id": "fe9223eb",
   "metadata": {
    "ExecuteTime": {
     "end_time": "2022-05-09T09:31:36.099628Z",
     "start_time": "2022-05-09T09:31:36.059313Z"
    }
   },
   "outputs": [],
   "source": [
    "import numpy as np"
   ]
  },
  {
   "cell_type": "code",
   "execution_count": 3,
   "id": "cce7e69f",
   "metadata": {
    "ExecuteTime": {
     "end_time": "2022-05-09T09:31:36.101683Z",
     "start_time": "2022-05-09T09:31:36.100310Z"
    }
   },
   "outputs": [],
   "source": [
    "import pickle"
   ]
  },
  {
   "cell_type": "code",
   "execution_count": 4,
   "id": "2afe040e",
   "metadata": {
    "ExecuteTime": {
     "end_time": "2022-05-09T09:31:36.113326Z",
     "start_time": "2022-05-09T09:31:36.102598Z"
    }
   },
   "outputs": [
    {
     "name": "stdout",
     "output_type": "stream",
     "text": [
      "pygame 2.1.2 (SDL 2.0.16, Python 3.9.7)\n",
      "Hello from the pygame community. https://www.pygame.org/contribute.html\n"
     ]
    }
   ],
   "source": [
    "import pygame as G"
   ]
  },
  {
   "cell_type": "code",
   "execution_count": 5,
   "id": "ce71fb03",
   "metadata": {
    "ExecuteTime": {
     "end_time": "2022-05-09T09:31:36.115619Z",
     "start_time": "2022-05-09T09:31:36.113913Z"
    }
   },
   "outputs": [],
   "source": [
    "G.quit()"
   ]
  },
  {
   "cell_type": "code",
   "execution_count": 6,
   "id": "f8db308f",
   "metadata": {
    "ExecuteTime": {
     "end_time": "2022-05-09T09:31:36.265991Z",
     "start_time": "2022-05-09T09:31:36.116178Z"
    }
   },
   "outputs": [],
   "source": [
    "from visualization import Human_video"
   ]
  },
  {
   "cell_type": "code",
   "execution_count": 7,
   "id": "51b11dbf",
   "metadata": {
    "ExecuteTime": {
     "end_time": "2022-05-09T09:31:36.268273Z",
     "start_time": "2022-05-09T09:31:36.266648Z"
    }
   },
   "outputs": [],
   "source": [
    "human_ = Human_video('/home/lim/Artificial General Intelligence/Data/exp_result', 'AG02')"
   ]
  },
  {
   "cell_type": "code",
   "execution_count": 8,
   "id": "a781c9c4",
   "metadata": {
    "ExecuteTime": {
     "end_time": "2022-05-09T09:32:14.166761Z",
     "start_time": "2022-05-09T09:31:36.269033Z"
    }
   },
   "outputs": [
    {
     "name": "stdout",
     "output_type": "stream",
     "text": [
      "(1920, 1080)\n"
     ]
    }
   ],
   "source": [
    "human_.save_video(['01'], 1)"
   ]
  },
  {
   "cell_type": "code",
   "execution_count": null,
   "id": "41071bf6",
   "metadata": {},
   "outputs": [],
   "source": []
  }
 ],
 "metadata": {
  "kernelspec": {
   "display_name": "Python 3 (ipykernel)",
   "language": "python",
   "name": "python3"
  },
  "language_info": {
   "codemirror_mode": {
    "name": "ipython",
    "version": 3
   },
   "file_extension": ".py",
   "mimetype": "text/x-python",
   "name": "python",
   "nbconvert_exporter": "python",
   "pygments_lexer": "ipython3",
   "version": "3.9.7"
  },
  "toc": {
   "base_numbering": 1,
   "nav_menu": {},
   "number_sections": true,
   "sideBar": true,
   "skip_h1_title": false,
   "title_cell": "Table of Contents",
   "title_sidebar": "Contents",
   "toc_cell": false,
   "toc_position": {
    "height": "calc(100% - 180px)",
    "left": "10px",
    "top": "150px",
    "width": "753.2px"
   },
   "toc_section_display": true,
   "toc_window_display": true
  },
  "varInspector": {
   "cols": {
    "lenName": 16,
    "lenType": 16,
    "lenVar": 40
   },
   "kernels_config": {
    "python": {
     "delete_cmd_postfix": "",
     "delete_cmd_prefix": "del ",
     "library": "var_list.py",
     "varRefreshCmd": "print(var_dic_list())"
    },
    "r": {
     "delete_cmd_postfix": ") ",
     "delete_cmd_prefix": "rm(",
     "library": "var_list.r",
     "varRefreshCmd": "cat(var_dic_list()) "
    }
   },
   "types_to_exclude": [
    "module",
    "function",
    "builtin_function_or_method",
    "instance",
    "_Feature"
   ],
   "window_display": false
  }
 },
 "nbformat": 4,
 "nbformat_minor": 5
}
