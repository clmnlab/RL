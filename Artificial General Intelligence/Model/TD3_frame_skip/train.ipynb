{
 "cells": [
  {
   "cell_type": "markdown",
   "id": "e8ea5659",
   "metadata": {},
   "source": [
    "### Reinforcement Learning Algorithm\n",
    "\n",
    "- Algorithm : TD3\n",
    "- Image \n",
    " - shape : 84 x 84 x 4\n",
    " - style : skipping\n",
    "- Output \n",
    " - shape : 2 dimension \n",
    " - style : r, theta"
   ]
  },
  {
   "cell_type": "markdown",
   "id": "0d2d42c1",
   "metadata": {},
   "source": [
    "#### Library import"
   ]
  },
  {
   "cell_type": "code",
   "execution_count": 1,
   "id": "6b4c9794",
   "metadata": {
    "ExecuteTime": {
     "end_time": "2022-05-09T09:33:24.738359Z",
     "start_time": "2022-05-09T09:33:24.103562Z"
    }
   },
   "outputs": [],
   "source": [
    "import os, sys, torch\n",
    "import torch.nn as nn\n",
    "import torch.nn.functional as F\n",
    "import torch.optim as optim\n",
    "import numpy as np\n",
    "import matplotlib.pyplot as plt"
   ]
  },
  {
   "cell_type": "code",
   "execution_count": 2,
   "id": "00dca46c",
   "metadata": {
    "ExecuteTime": {
     "end_time": "2022-05-09T09:33:24.741072Z",
     "start_time": "2022-05-09T09:33:24.739317Z"
    }
   },
   "outputs": [],
   "source": [
    "sys.path.append('/home/lim/Artificial General Intelligence/')"
   ]
  },
  {
   "cell_type": "code",
   "execution_count": 3,
   "id": "1f32e38c",
   "metadata": {
    "ExecuteTime": {
     "end_time": "2022-05-09T09:33:24.807446Z",
     "start_time": "2022-05-09T09:33:24.741796Z"
    }
   },
   "outputs": [
    {
     "name": "stdout",
     "output_type": "stream",
     "text": [
      "pygame 2.1.2 (SDL 2.0.16, Python 3.9.7)\n",
      "Hello from the pygame community. https://www.pygame.org/contribute.html\n"
     ]
    }
   ],
   "source": [
    "from sys_util import makedir\n",
    "from itertools import count\n",
    "from game import RL_game, plot_image"
   ]
  },
  {
   "cell_type": "code",
   "execution_count": 4,
   "id": "fd228c1c",
   "metadata": {
    "ExecuteTime": {
     "end_time": "2022-05-09T09:33:24.845403Z",
     "start_time": "2022-05-09T09:33:24.808765Z"
    },
    "scrolled": true
   },
   "outputs": [
    {
     "name": "stdout",
     "output_type": "stream",
     "text": [
      "==================================================\n",
      "Device Name : cuda\n",
      "==================================================\n"
     ]
    }
   ],
   "source": [
    "device = 'cuda' if torch.cuda.is_available() else 'cpu'\n",
    "print('=' * 50)\n",
    "print('Device Name : {}'.format(device))\n",
    "print('=' * 50)"
   ]
  },
  {
   "cell_type": "markdown",
   "id": "0906b199",
   "metadata": {},
   "source": [
    "#### Replay_buffer"
   ]
  },
  {
   "cell_type": "code",
   "execution_count": 5,
   "id": "f616f435",
   "metadata": {
    "ExecuteTime": {
     "end_time": "2022-05-09T09:33:24.873563Z",
     "start_time": "2022-05-09T09:33:24.846146Z"
    }
   },
   "outputs": [],
   "source": [
    "class Replay_buffer:\n",
    "    def __init__(self, max_size = 50000):\n",
    "        self.storage = []\n",
    "        self.max_size = max_size\n",
    "        self.ptr = 0\n",
    "        \n",
    "    def push(self, data):\n",
    "        if len(self.storage) == self.max_size:\n",
    "            self.storage[int(self.ptr)] == data\n",
    "            self.ptr = (self.ptr + 1) % self.max_size\n",
    "        else:\n",
    "            self.storage.append(data)\n",
    "    \n",
    "    def sample(self, batch_size):\n",
    "        index = np.random.randint(0, len(self.storage), size = batch_size)\n",
    "        x, y, u, r, d = [], [], [], [], []\n",
    "        \n",
    "        for i in index:\n",
    "            X, Y, U, R, D = self.storage[i]\n",
    "            x.append(np.array(X, copy=False))\n",
    "            y.append(np.array(Y, copy=False))\n",
    "            u.append(np.array(U, copy=False))\n",
    "            r.append(np.array(R, copy=False))\n",
    "            d.append(np.array(D, copy=False))\n",
    "            \n",
    "        return np.array(x), np.array(y), np.array(u), np.array(r).reshape(-1, 1), np.array(d).reshape(-1, 1) "
   ]
  },
  {
   "cell_type": "markdown",
   "id": "4bafc373",
   "metadata": {},
   "source": [
    "#### Convolutional Neural Network"
   ]
  },
  {
   "cell_type": "code",
   "execution_count": 6,
   "id": "d45a4a3f",
   "metadata": {
    "ExecuteTime": {
     "end_time": "2022-05-09T09:33:24.877628Z",
     "start_time": "2022-05-09T09:33:24.874286Z"
    }
   },
   "outputs": [],
   "source": [
    "class ConvNet(nn.Module):\n",
    "    def __init__(self, frame_size):\n",
    "        super(ConvNet, self).__init__()\n",
    "        \n",
    "        self.frame_size = frame_size\n",
    "        \n",
    "        self.conv1 = nn.Conv2d(in_channels = 4, out_channels = 32, kernel_size = 8, stride = 4, padding = 'valid')\n",
    "        self.conv2 = nn.Conv2d(in_channels = 32, out_channels = 64, kernel_size = 4, stride = 2, padding = 'valid')\n",
    "        self.conv3 = nn.Conv2d(in_channels = 64, out_channels = 128, kernel_size = 3, stride = 1, padding = 'valid')\n",
    "        self.conv4 = nn.Conv2d(in_channels = 128, out_channels = 512, kernel_size = 7, stride = 1, padding = 'valid')\n",
    "        \n",
    "        self.flatten = nn.Flatten()\n",
    "        \n",
    "        self.fc1 = nn.Linear(512, 256)\n",
    "    \n",
    "    def forward(self, x):\n",
    "        x = x.reshape((-1, 4, self.frame_size, self.frame_size))\n",
    "        \n",
    "        x = F.relu(self.conv1(x))\n",
    "        x = F.relu(self.conv2(x))\n",
    "        x = F.relu(self.conv3(x))\n",
    "        x = F.relu(self.conv4(x))\n",
    "        \n",
    "        x = self.flatten(x)\n",
    "        x = F.relu(self.fc1(x))\n",
    "        return x"
   ]
  },
  {
   "cell_type": "markdown",
   "id": "25c328e4",
   "metadata": {},
   "source": [
    "#### Actor Network"
   ]
  },
  {
   "cell_type": "code",
   "execution_count": 7,
   "id": "6cc60776",
   "metadata": {
    "ExecuteTime": {
     "end_time": "2022-05-09T09:33:24.881190Z",
     "start_time": "2022-05-09T09:33:24.878296Z"
    }
   },
   "outputs": [],
   "source": [
    "class Actor(nn.Module):\n",
    "    def __init__(self, s_dim, model):\n",
    "        super(Actor, self).__init__()\n",
    "        self.conv = model\n",
    "        \n",
    "        self.fc1 = nn.Linear(s_dim, 200)\n",
    "        self.fc2 = nn.Linear(200, 100)\n",
    "        self.action_r = nn.Linear(100, 1)\n",
    "        self.action_theta = nn.Linear(100, 1)\n",
    "        \n",
    "    def forward(self, x):\n",
    "        x = self.conv(x)\n",
    "        \n",
    "        x = F.relu(self.fc1(x))\n",
    "        x = F.relu(self.fc2(x))\n",
    "        \n",
    "        action_r = torch.sigmoid(self.action_r(x))\n",
    "        action_theta = torch.tanh(self.action_theta(x))\n",
    "        \n",
    "        action = torch.cat([action_r, action_theta], dim=1)\n",
    "        return action"
   ]
  },
  {
   "cell_type": "markdown",
   "id": "4daaa293",
   "metadata": {},
   "source": [
    "#### Critic Network"
   ]
  },
  {
   "cell_type": "code",
   "execution_count": 8,
   "id": "afa9c097",
   "metadata": {
    "ExecuteTime": {
     "end_time": "2022-05-09T09:33:24.885532Z",
     "start_time": "2022-05-09T09:33:24.881882Z"
    }
   },
   "outputs": [],
   "source": [
    "class Critic(nn.Module):\n",
    "    def __init__(self, s_dim, a_dim, model):\n",
    "        super(Critic, self).__init__()\n",
    "        self.conv = model\n",
    "        \n",
    "        self.fc1 = nn.Linear(s_dim + a_dim, 200)\n",
    "        self.fc2 = nn.Linear(200, 100)\n",
    "        self.fc3 = nn.Linear(100, 1)\n",
    "        \n",
    "        self.fc4 = nn.Linear(s_dim + a_dim, 200)\n",
    "        self.fc5 = nn.Linear(200, 100)\n",
    "        self.fc6 = nn.Linear(100, 1)\n",
    "    \n",
    "    def forward(self, x, u):\n",
    "        x = self.conv(x)\n",
    "        \n",
    "        x1 = F.relu(self.fc1(torch.cat([x, u], dim = 1)))\n",
    "        x1 = F.relu(self.fc2(x1))\n",
    "        x1 = self.fc3(x1)\n",
    "        \n",
    "        x2 = F.relu(self.fc4(torch.cat([x, u], dim = 1)))\n",
    "        x2 = F.relu(self.fc5(x2))\n",
    "        x2 = self.fc3(x2)\n",
    "        return x1, x2\n",
    "    \n",
    "    def Q1(self, x, u):\n",
    "        x = self.conv(x)\n",
    "        \n",
    "        x1 = F.relu(self.fc1(torch.cat([x, u], dim = 1)))\n",
    "        x1 = F.relu(self.fc2(x1))\n",
    "        x1 = self.fc3(x1)\n",
    "        return x1"
   ]
  },
  {
   "cell_type": "markdown",
   "id": "f6b94d43",
   "metadata": {},
   "source": [
    "#### RL Algorithm"
   ]
  },
  {
   "cell_type": "code",
   "execution_count": 9,
   "id": "69d361ad",
   "metadata": {
    "ExecuteTime": {
     "end_time": "2022-05-09T09:33:24.896224Z",
     "start_time": "2022-05-09T09:33:24.886213Z"
    }
   },
   "outputs": [],
   "source": [
    "class TD3(object):\n",
    "    def __init__(self, state_dim, action_dim, action_lr, critic_lr, model1, model2):\n",
    "        self.actor = Actor(state_dim, model1).to(device)\n",
    "        self.actor_target = Actor(state_dim, model1).to(device)\n",
    "        self.actor_target.load_state_dict(self.actor.state_dict())\n",
    "        self.actor_optimizer = torch.optim.Adam(self.actor.parameters(), lr = action_lr)\n",
    "        \n",
    "        self.critic = Critic(state_dim, action_dim, model2).to(device)\n",
    "        self.critic_target = Critic(state_dim, action_dim, model2).to(device)\n",
    "        self.critic_target.load_state_dict(self.critic.state_dict())\n",
    "        self.critic_optimizer = torch.optim.Adam(self.critic.parameters(), lr = critic_lr)\n",
    "        \n",
    "        self.total_it = 0\n",
    "        self.replay_buffer = Replay_buffer()\n",
    "        \n",
    "    def select_action(self, state, noise = 0.1):\n",
    "        state = torch.FloatTensor(state).to(device)\n",
    "        action_r, action_theta = self.actor(state).cpu().data.numpy().flatten()\n",
    "        \n",
    "        if noise != 0:\n",
    "            action_r = (action_r + (np.random.normal(0, noise, size=1))).clip(0, 1)\n",
    "            action_theta = (action_theta + (np.random.normal(0, noise * 2, size=1))).clip(-1, 1)\n",
    "        \n",
    "        action_r = torch.from_numpy(action_r).reshape(-1, 1)\n",
    "        action_theta = torch.from_numpy(action_theta).reshape(-1, 1)\n",
    "        \n",
    "        action = torch.cat([action_r, action_theta], dim = 1)\n",
    "        return action.cpu().data.numpy().flatten()\n",
    "    \n",
    "    def update(self, batch_size, iterations, discount = 0.99, tau = 0.005, policy_noise = 0.2, noise_clip = 0.5, policy_freq = 2):\n",
    "        for it in range(iterations):\n",
    "            x, y, u, r, d = self.replay_buffer.sample(batch_size)\n",
    "            state = torch.FloatTensor(x).to(device)\n",
    "            next_state = torch.FloatTensor(y).to(device)\n",
    "            action = torch.FloatTensor(u).to(device)\n",
    "            done = torch.FloatTensor(1-d).to(device)\n",
    "            reward = torch.FloatTensor(r).to(device)\n",
    "            \n",
    "            with torch.no_grad():\n",
    "                next_action = self.actor_target(next_state)\n",
    "                \n",
    "                r_noise = (torch.randn(size=(batch_size,)) * policy_noise / 2).clamp(-noise_clip/4, noise_clip/4).to(device)\n",
    "                theta_noise = (torch.randn(size=(batch_size,)) * policy_noise).clamp(-noise_clip/2, noise_clip/2).to(device)\n",
    "                \n",
    "                next_action[:, 0] += r_noise\n",
    "                next_action[:, 1] += theta_noise\n",
    "                \n",
    "                next_action[:, 0] = next_action[:, 0].clamp(0, 1)\n",
    "                next_action[:, 1] = next_action[:, 1].clamp(-1, 1)\n",
    "                \n",
    "                target_Q1, target_Q2 = self.critic_target(next_state, next_action)\n",
    "                target_Q = torch.min(target_Q1, target_Q2)\n",
    "                target_Q = reward + (done * discount * target_Q).detach()\n",
    "                \n",
    "            current_Q1, current_Q2 = self.critic(state, action)\n",
    "            critic_loss = F.mse_loss(current_Q1, target_Q) + F.mse_loss(current_Q2, target_Q)\n",
    "            \n",
    "            self.critic_optimizer.zero_grad()\n",
    "            critic_loss.backward()\n",
    "            self.critic_optimizer.step()\n",
    "            \n",
    "            if it % policy_freq == 0:\n",
    "                actor_loss = -self.critic.Q1(state, self.actor(state)).mean()\n",
    "                \n",
    "                self.actor_optimizer.zero_grad()\n",
    "                actor_loss.backward()\n",
    "                self.actor_optimizer.step()\n",
    "                \n",
    "                for param, target_param in zip(self.critic.parameters(), self.critic_target.parameters()):\n",
    "                    target_param.data.copy_(tau * param.data + (1 - tau) * target_param.data)\n",
    "                \n",
    "                for param, target_param in zip(self.actor.parameters(), self.actor_target.parameters()):\n",
    "                    target_param.data.copy_(tau * param.data + (1 - tau) * target_param.data)\n",
    "\n",
    "    def save(self, directory, epoch):\n",
    "        torch.save(self.actor, directory + '/Actor' + '/actor_{}.pt'.format(epoch))\n",
    "        torch.save(self.critic, directory + '/Critic' + '/critic_{}.pt'.format(epoch))\n",
    "        \n",
    "        print('')\n",
    "        print('=' * 50)\n",
    "        print('Epoch : {} // Model has been saved...'.format(epoch))\n",
    "        print('=' * 50)\n",
    "    \n",
    "    def load(self, directory, epoch, device):\n",
    "        self.actor = torch.load(directory + '/Actor' + '/actor_{}.pt'.format(epoch), map_location=torch.device(device))\n",
    "        self.critic = torch.load(directory + '/Critic' + '/critic_{}.pt'.format(epoch), map_location=torch.device(device))\n",
    "        \n",
    "        print('')\n",
    "        print('=' * 50)\n",
    "        print('Model has been loaded...')\n",
    "        print('=' * 50)\n",
    "        self.actor.eval()\n",
    "        self.critic.eval()"
   ]
  },
  {
   "cell_type": "markdown",
   "id": "e73f7b5b",
   "metadata": {},
   "source": [
    "#### parameter import"
   ]
  },
  {
   "cell_type": "code",
   "execution_count": 10,
   "id": "edf4f9b8",
   "metadata": {
    "ExecuteTime": {
     "end_time": "2022-05-09T09:33:24.930677Z",
     "start_time": "2022-05-09T09:33:24.897800Z"
    },
    "scrolled": true
   },
   "outputs": [
    {
     "name": "stderr",
     "output_type": "stream",
     "text": [
      "/home/lim/Artificial General Intelligence/game.py:127: DeprecationWarning: `np.float` is a deprecated alias for the builtin `float`. To silence this warning, use `float` by itself. Doing this will not modify any behavior and is safe. If you specifically wanted the numpy scalar type, use `np.float64` here.\n",
      "Deprecated in NumPy 1.20; for more details and guidance: https://numpy.org/devdocs/release/1.20.0-notes.html#deprecations\n",
      "  self.action_r = gym.spaces.Box(low=np.float(0), high=np.float(act_high), shape=(1,))\n"
     ]
    }
   ],
   "source": [
    "env = RL_game(mode = 'base')\n",
    "frame_size = 84\n",
    "state_dim = 256\n",
    "action_dim = 2\n",
    "action_lr = 1e-5\n",
    "critic_lr = 1e-5\n",
    "batch_size = 128\n",
    "tau = 0.01\n",
    "model1 = ConvNet(frame_size)\n",
    "model2 = ConvNet(frame_size)"
   ]
  },
  {
   "cell_type": "code",
   "execution_count": 11,
   "id": "9353b4c7",
   "metadata": {
    "ExecuteTime": {
     "end_time": "2022-05-09T09:33:31.370590Z",
     "start_time": "2022-05-09T09:33:24.931343Z"
    }
   },
   "outputs": [
    {
     "name": "stdout",
     "output_type": "stream",
     "text": [
      "Name : TD3_frame_skip\n",
      "==================================================\n",
      "Directory has been made...\n",
      "Directory path : /home/lim/Artificial General Intelligence/Data/RL_model/TD3_frame_skip\n",
      "==================================================\n"
     ]
    }
   ],
   "source": [
    "max_episode = 100000\n",
    "start_train = 100\n",
    "trial = input('Name : ')\n",
    "directory = makedir('/home/lim/Artificial General Intelligence/Data/RL_model', trial)"
   ]
  },
  {
   "cell_type": "code",
   "execution_count": 12,
   "id": "7f261d6f",
   "metadata": {
    "ExecuteTime": {
     "end_time": "2022-05-09T09:33:31.373899Z",
     "start_time": "2022-05-09T09:33:31.371292Z"
    }
   },
   "outputs": [],
   "source": [
    "path = np.load('/home/lim/Artificial General Intelligence/Data/total_path.npy')"
   ]
  },
  {
   "cell_type": "code",
   "execution_count": 13,
   "id": "cccf5255",
   "metadata": {
    "ExecuteTime": {
     "end_time": "2022-05-09T09:33:31.504486Z",
     "start_time": "2022-05-09T09:33:31.374783Z"
    },
    "scrolled": false
   },
   "outputs": [
    {
     "name": "stdout",
     "output_type": "stream",
     "text": [
      "[90  0]\n"
     ]
    },
    {
     "data": {
      "text/plain": [
       "<matplotlib.image.AxesImage at 0x7f67831c7880>"
      ]
     },
     "execution_count": 13,
     "metadata": {},
     "output_type": "execute_result"
    },
    {
     "data": {
      "image/png": "[encoded data removed]",
      "text/plain": [
       "<Figure size 432x288 with 1 Axes>"
      ]
     },
     "metadata": {
      "needs_background": "light"
     },
     "output_type": "display_data"
    }
   ],
   "source": [
    "env.reset()\n",
    "env.step(np.array([15]), np.array([0]), path)\n",
    "print(env.action)\n",
    "plt.imshow(env.to_frame(84, 84), cmap = 'gray')"
   ]
  },
  {
   "cell_type": "markdown",
   "id": "145d1621",
   "metadata": {},
   "source": [
    "#### Train"
   ]
  },
  {
   "cell_type": "code",
   "execution_count": null,
   "id": "d21b7c72",
   "metadata": {
    "ExecuteTime": {
     "start_time": "2022-05-09T09:33:24.121Z"
    }
   },
   "outputs": [
    {
     "name": "stdout",
     "output_type": "stream",
     "text": [
      "Episode : 100, Total_step : 88, Total Reward : 31.037\n",
      "==================================================\n",
      "***** Now Train begins. *****\n",
      "==================================================\n",
      "Episode : 108, Total_step : 236, Total Reward : 130.44\n",
      "==================================================\n",
      "Epoch : 108 // Model has been saved...\n",
      "==================================================\n",
      "Episode : 111, Total_step : 248, Total Reward : 142.30\n",
      "==================================================\n",
      "Epoch : 111 // Model has been saved...\n",
      "==================================================\n",
      "Episode : 185, Total_step : 416, Total Reward : 89.795"
     ]
    }
   ],
   "source": [
    "agent = TD3(state_dim, action_dim, action_lr, critic_lr, model1, model2)\n",
    "reward_list = []\n",
    "\n",
    "for episode in range(max_episode):\n",
    "    total_reward = 0\n",
    "    step = 0\n",
    "    env.reset()\n",
    "    state = []\n",
    "    \n",
    "    for i in range(4):\n",
    "        state.append(env.to_frame(frame_size, frame_size).squeeze().copy() / 255)\n",
    "    state = np.array(state)\n",
    "    \n",
    "    for t in count():\n",
    "        reward = 0\n",
    "        \n",
    "        if episode < start_train:\n",
    "            action_r = (np.random.normal(0, 0.2, size=1)).clip(0, 1)\n",
    "            action_theta = np.random.normal(0, 0.4, size=1).clip(-1, 1)\n",
    "        else:\n",
    "            action_r, action_theta = agent.select_action(state, noise = 0.1)\n",
    "            action_r = np.array([action_r])\n",
    "            action_theta = np.array([action_theta])\n",
    "        \n",
    "        next_state = []\n",
    "        \n",
    "        for _ in range(4):\n",
    "            next_tmp, reward_tmp, done, _ = env.step(action_r, action_theta, path)\n",
    "            next_tmp = env.to_frame(frame_size, frame_size).squeeze().copy() / 255\n",
    "            next_state.append(next_tmp)\n",
    "            reward += reward_tmp\n",
    "        \n",
    "        next_state = np.array(next_state)\n",
    "        \n",
    "        action = np.array([action_r.item(), action_theta.item()], dtype = float)\n",
    "        agent.replay_buffer.push((state, next_state, action, reward, float(done)))\n",
    "        state = next_state.copy()\n",
    "        \n",
    "        total_reward += reward\n",
    "        \n",
    "        if done:\n",
    "            break\n",
    "        \n",
    "    print('\\rEpisode : {}, Total_step : {}, Total Reward : {:.2f}'.format(episode, env.count, total_reward), end='')\n",
    "    if episode == start_train:\n",
    "        print('')\n",
    "        print('=' * 50)\n",
    "        print('***** Now Train begins. *****')\n",
    "        print('=' * 50)\n",
    "        \n",
    "    reward_list.append(total_reward)\n",
    "    \n",
    "    if episode > start_train and total_reward == max(reward_list):\n",
    "        agent.save(directory = directory, epoch = episode)\n",
    "    \n",
    "    if episode > start_train:\n",
    "        agent.update(batch_size, episode)\n",
    "    \n",
    "    if total_reward > 29000:\n",
    "        np.save(directory + '/{}_lr.npy'.format(trial), reward_list)\n",
    "        break"
   ]
  },
  {
   "cell_type": "code",
   "execution_count": null,
   "id": "5d05c984",
   "metadata": {},
   "outputs": [],
   "source": []
  }
 ],
 "metadata": {
  "kernelspec": {
   "display_name": "Python 3 (ipykernel)",
   "language": "python",
   "name": "python3"
  },
  "language_info": {
   "codemirror_mode": {
    "name": "ipython",
    "version": 3
   },
   "file_extension": ".py",
   "mimetype": "text/x-python",
   "name": "python",
   "nbconvert_exporter": "python",
   "pygments_lexer": "ipython3",
   "version": "3.8.10"
  },
  "toc": {
   "base_numbering": 1,
   "nav_menu": {},
   "number_sections": true,
   "sideBar": true,
   "skip_h1_title": false,
   "title_cell": "Table of Contents",
   "title_sidebar": "Contents",
   "toc_cell": false,
   "toc_position": {},
   "toc_section_display": true,
   "toc_window_display": true
  },
  "varInspector": {
   "cols": {
    "lenName": 16,
    "lenType": 16,
    "lenVar": 40
   },
   "kernels_config": {
    "python": {
     "delete_cmd_postfix": "",
     "delete_cmd_prefix": "del ",
     "library": "var_list.py",
     "varRefreshCmd": "print(var_dic_list())"
    },
    "r": {
     "delete_cmd_postfix": ") ",
     "delete_cmd_prefix": "rm(",
     "library": "var_list.r",
     "varRefreshCmd": "cat(var_dic_list()) "
    }
   },
   "types_to_exclude": [
    "module",
    "function",
    "builtin_function_or_method",
    "instance",
    "_Feature"
   ],
   "window_display": false
  }
 },
 "nbformat": 4,
 "nbformat_minor": 5
}
